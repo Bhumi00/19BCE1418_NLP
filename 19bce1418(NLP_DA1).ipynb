{
  "cells": [
    {
      "cell_type": "code",
      "execution_count": 1,
      "id": "feafd1fd",
      "metadata": {
        "colab": {
          "base_uri": "https://localhost:8080/"
        },
        "id": "feafd1fd",
        "outputId": "6f266db2-1811-4a76-efa5-41a7fba0c5a0"
      },
      "outputs": [
        {
          "output_type": "stream",
          "name": "stderr",
          "text": [
            "[nltk_data] Downloading package brown to /root/nltk_data...\n",
            "[nltk_data]   Unzipping corpora/brown.zip.\n"
          ]
        },
        {
          "output_type": "execute_result",
          "data": {
            "text/plain": [
              "True"
            ]
          },
          "metadata": {},
          "execution_count": 1
        }
      ],
      "source": [
        "import nltk.corpus\n",
        "from collections import Counter\n",
        "nltk.download('brown')"
      ]
    },
    {
      "cell_type": "code",
      "source": [
        "# question 1"
      ],
      "metadata": {
        "id": "dG1wyOFSs_Ky"
      },
      "id": "dG1wyOFSs_Ky",
      "execution_count": 2,
      "outputs": []
    },
    {
      "cell_type": "code",
      "execution_count": 3,
      "id": "334bc133",
      "metadata": {
        "colab": {
          "base_uri": "https://localhost:8080/"
        },
        "id": "334bc133",
        "outputId": "fa3b5b41-a3e7-4e6e-9261-0112ba77f855"
      },
      "outputs": [
        {
          "output_type": "stream",
          "name": "stdout",
          "text": [
            "Size of word tokens,  2\n",
            "Size of word types,  114\n",
            "Size of category government,  851\n",
            "No. 1 most frequent word, the\n",
            "No. 2 most frequent word, ,\n",
            "No. 3 most frequent word, .\n",
            "No. 4 most frequent word, of\n",
            "No. 5 most frequent word, and\n",
            "No. 6 most frequent word, to\n",
            "No. 7 most frequent word, a\n",
            "No. 8 most frequent word, in\n",
            "No. 9 most frequent word, that\n",
            "No. 10 most frequent word, is\n",
            "Number of sentences,  57340\n"
          ]
        }
      ],
      "source": [
        "brown = nltk.corpus.brown\n",
        "\n",
        "word_count = dict(sorted(Counter(brown.words()).items(), key=lambda item: item[1], reverse=True))\n",
        "unique_words = list(word_count.keys())\n",
        "\n",
        "print(\"Size of word tokens, \", word_count[\"tokens\"])\n",
        "\n",
        "print(\"Size of word types, \", word_count[\"types\"])\n",
        "\n",
        "print(\"Size of category government, \", len(brown.tagged_paras(categories='government')))\n",
        "\n",
        "[print(f\"No. {i+1} most frequent word, {unique_words[i]}\") for i in range(10)]\n",
        "\n",
        "print(\"Number of sentences, \",len(brown.sents()))"
      ]
    },
    {
      "cell_type": "code",
      "source": [
        "# question 2"
      ],
      "metadata": {
        "id": "l81llN6ttOny"
      },
      "id": "l81llN6ttOny",
      "execution_count": 4,
      "outputs": []
    },
    {
      "cell_type": "code",
      "execution_count": 6,
      "id": "747afe8f",
      "metadata": {
        "colab": {
          "base_uri": "https://localhost:8080/"
        },
        "id": "747afe8f",
        "outputId": "f403759c-38c3-4d4e-e18f-1efa612ba237"
      },
      "outputs": [
        {
          "output_type": "stream",
          "name": "stderr",
          "text": [
            "[nltk_data] Downloading package treebank to /root/nltk_data...\n",
            "[nltk_data]   Unzipping corpora/treebank.zip.\n"
          ]
        },
        {
          "output_type": "execute_result",
          "data": {
            "text/plain": [
              "True"
            ]
          },
          "metadata": {},
          "execution_count": 6
        }
      ],
      "source": [
        "from nltk.corpus import treebank\n",
        "nltk.download('treebank')\n"
      ]
    },
    {
      "cell_type": "code",
      "execution_count": 7,
      "id": "413005a6",
      "metadata": {
        "colab": {
          "base_uri": "https://localhost:8080/"
        },
        "id": "413005a6",
        "outputId": "ee38be56-4c90-4732-ecee-4f85d7b041d2"
      },
      "outputs": [
        {
          "output_type": "execute_result",
          "data": {
            "text/plain": [
              "['wsj_0001.mrg',\n",
              " 'wsj_0002.mrg',\n",
              " 'wsj_0003.mrg',\n",
              " 'wsj_0004.mrg',\n",
              " 'wsj_0005.mrg',\n",
              " 'wsj_0006.mrg',\n",
              " 'wsj_0007.mrg',\n",
              " 'wsj_0008.mrg',\n",
              " 'wsj_0009.mrg',\n",
              " 'wsj_0010.mrg',\n",
              " 'wsj_0011.mrg',\n",
              " 'wsj_0012.mrg',\n",
              " 'wsj_0013.mrg',\n",
              " 'wsj_0014.mrg',\n",
              " 'wsj_0015.mrg',\n",
              " 'wsj_0016.mrg',\n",
              " 'wsj_0017.mrg',\n",
              " 'wsj_0018.mrg',\n",
              " 'wsj_0019.mrg',\n",
              " 'wsj_0020.mrg',\n",
              " 'wsj_0021.mrg',\n",
              " 'wsj_0022.mrg',\n",
              " 'wsj_0023.mrg',\n",
              " 'wsj_0024.mrg',\n",
              " 'wsj_0025.mrg',\n",
              " 'wsj_0026.mrg',\n",
              " 'wsj_0027.mrg',\n",
              " 'wsj_0028.mrg',\n",
              " 'wsj_0029.mrg',\n",
              " 'wsj_0030.mrg',\n",
              " 'wsj_0031.mrg',\n",
              " 'wsj_0032.mrg',\n",
              " 'wsj_0033.mrg',\n",
              " 'wsj_0034.mrg',\n",
              " 'wsj_0035.mrg',\n",
              " 'wsj_0036.mrg',\n",
              " 'wsj_0037.mrg',\n",
              " 'wsj_0038.mrg',\n",
              " 'wsj_0039.mrg',\n",
              " 'wsj_0040.mrg',\n",
              " 'wsj_0041.mrg',\n",
              " 'wsj_0042.mrg',\n",
              " 'wsj_0043.mrg',\n",
              " 'wsj_0044.mrg',\n",
              " 'wsj_0045.mrg',\n",
              " 'wsj_0046.mrg',\n",
              " 'wsj_0047.mrg',\n",
              " 'wsj_0048.mrg',\n",
              " 'wsj_0049.mrg',\n",
              " 'wsj_0050.mrg',\n",
              " 'wsj_0051.mrg',\n",
              " 'wsj_0052.mrg',\n",
              " 'wsj_0053.mrg',\n",
              " 'wsj_0054.mrg',\n",
              " 'wsj_0055.mrg',\n",
              " 'wsj_0056.mrg',\n",
              " 'wsj_0057.mrg',\n",
              " 'wsj_0058.mrg',\n",
              " 'wsj_0059.mrg',\n",
              " 'wsj_0060.mrg',\n",
              " 'wsj_0061.mrg',\n",
              " 'wsj_0062.mrg',\n",
              " 'wsj_0063.mrg',\n",
              " 'wsj_0064.mrg',\n",
              " 'wsj_0065.mrg',\n",
              " 'wsj_0066.mrg',\n",
              " 'wsj_0067.mrg',\n",
              " 'wsj_0068.mrg',\n",
              " 'wsj_0069.mrg',\n",
              " 'wsj_0070.mrg',\n",
              " 'wsj_0071.mrg',\n",
              " 'wsj_0072.mrg',\n",
              " 'wsj_0073.mrg',\n",
              " 'wsj_0074.mrg',\n",
              " 'wsj_0075.mrg',\n",
              " 'wsj_0076.mrg',\n",
              " 'wsj_0077.mrg',\n",
              " 'wsj_0078.mrg',\n",
              " 'wsj_0079.mrg',\n",
              " 'wsj_0080.mrg',\n",
              " 'wsj_0081.mrg',\n",
              " 'wsj_0082.mrg',\n",
              " 'wsj_0083.mrg',\n",
              " 'wsj_0084.mrg',\n",
              " 'wsj_0085.mrg',\n",
              " 'wsj_0086.mrg',\n",
              " 'wsj_0087.mrg',\n",
              " 'wsj_0088.mrg',\n",
              " 'wsj_0089.mrg',\n",
              " 'wsj_0090.mrg',\n",
              " 'wsj_0091.mrg',\n",
              " 'wsj_0092.mrg',\n",
              " 'wsj_0093.mrg',\n",
              " 'wsj_0094.mrg',\n",
              " 'wsj_0095.mrg',\n",
              " 'wsj_0096.mrg',\n",
              " 'wsj_0097.mrg',\n",
              " 'wsj_0098.mrg',\n",
              " 'wsj_0099.mrg',\n",
              " 'wsj_0100.mrg',\n",
              " 'wsj_0101.mrg',\n",
              " 'wsj_0102.mrg',\n",
              " 'wsj_0103.mrg',\n",
              " 'wsj_0104.mrg',\n",
              " 'wsj_0105.mrg',\n",
              " 'wsj_0106.mrg',\n",
              " 'wsj_0107.mrg',\n",
              " 'wsj_0108.mrg',\n",
              " 'wsj_0109.mrg',\n",
              " 'wsj_0110.mrg',\n",
              " 'wsj_0111.mrg',\n",
              " 'wsj_0112.mrg',\n",
              " 'wsj_0113.mrg',\n",
              " 'wsj_0114.mrg',\n",
              " 'wsj_0115.mrg',\n",
              " 'wsj_0116.mrg',\n",
              " 'wsj_0117.mrg',\n",
              " 'wsj_0118.mrg',\n",
              " 'wsj_0119.mrg',\n",
              " 'wsj_0120.mrg',\n",
              " 'wsj_0121.mrg',\n",
              " 'wsj_0122.mrg',\n",
              " 'wsj_0123.mrg',\n",
              " 'wsj_0124.mrg',\n",
              " 'wsj_0125.mrg',\n",
              " 'wsj_0126.mrg',\n",
              " 'wsj_0127.mrg',\n",
              " 'wsj_0128.mrg',\n",
              " 'wsj_0129.mrg',\n",
              " 'wsj_0130.mrg',\n",
              " 'wsj_0131.mrg',\n",
              " 'wsj_0132.mrg',\n",
              " 'wsj_0133.mrg',\n",
              " 'wsj_0134.mrg',\n",
              " 'wsj_0135.mrg',\n",
              " 'wsj_0136.mrg',\n",
              " 'wsj_0137.mrg',\n",
              " 'wsj_0138.mrg',\n",
              " 'wsj_0139.mrg',\n",
              " 'wsj_0140.mrg',\n",
              " 'wsj_0141.mrg',\n",
              " 'wsj_0142.mrg',\n",
              " 'wsj_0143.mrg',\n",
              " 'wsj_0144.mrg',\n",
              " 'wsj_0145.mrg',\n",
              " 'wsj_0146.mrg',\n",
              " 'wsj_0147.mrg',\n",
              " 'wsj_0148.mrg',\n",
              " 'wsj_0149.mrg',\n",
              " 'wsj_0150.mrg',\n",
              " 'wsj_0151.mrg',\n",
              " 'wsj_0152.mrg',\n",
              " 'wsj_0153.mrg',\n",
              " 'wsj_0154.mrg',\n",
              " 'wsj_0155.mrg',\n",
              " 'wsj_0156.mrg',\n",
              " 'wsj_0157.mrg',\n",
              " 'wsj_0158.mrg',\n",
              " 'wsj_0159.mrg',\n",
              " 'wsj_0160.mrg',\n",
              " 'wsj_0161.mrg',\n",
              " 'wsj_0162.mrg',\n",
              " 'wsj_0163.mrg',\n",
              " 'wsj_0164.mrg',\n",
              " 'wsj_0165.mrg',\n",
              " 'wsj_0166.mrg',\n",
              " 'wsj_0167.mrg',\n",
              " 'wsj_0168.mrg',\n",
              " 'wsj_0169.mrg',\n",
              " 'wsj_0170.mrg',\n",
              " 'wsj_0171.mrg',\n",
              " 'wsj_0172.mrg',\n",
              " 'wsj_0173.mrg',\n",
              " 'wsj_0174.mrg',\n",
              " 'wsj_0175.mrg',\n",
              " 'wsj_0176.mrg',\n",
              " 'wsj_0177.mrg',\n",
              " 'wsj_0178.mrg',\n",
              " 'wsj_0179.mrg',\n",
              " 'wsj_0180.mrg',\n",
              " 'wsj_0181.mrg',\n",
              " 'wsj_0182.mrg',\n",
              " 'wsj_0183.mrg',\n",
              " 'wsj_0184.mrg',\n",
              " 'wsj_0185.mrg',\n",
              " 'wsj_0186.mrg',\n",
              " 'wsj_0187.mrg',\n",
              " 'wsj_0188.mrg',\n",
              " 'wsj_0189.mrg',\n",
              " 'wsj_0190.mrg',\n",
              " 'wsj_0191.mrg',\n",
              " 'wsj_0192.mrg',\n",
              " 'wsj_0193.mrg',\n",
              " 'wsj_0194.mrg',\n",
              " 'wsj_0195.mrg',\n",
              " 'wsj_0196.mrg',\n",
              " 'wsj_0197.mrg',\n",
              " 'wsj_0198.mrg',\n",
              " 'wsj_0199.mrg']"
            ]
          },
          "metadata": {},
          "execution_count": 7
        }
      ],
      "source": [
        "treebank.fileids()"
      ]
    },
    {
      "cell_type": "code",
      "source": [
        "print(treebank.words('wsj_0003.mrg'))"
      ],
      "metadata": {
        "colab": {
          "base_uri": "https://localhost:8080/"
        },
        "id": "oa6KR3zPuHby",
        "outputId": "cf333edf-4fda-4632-f9a4-4be55e30270f"
      },
      "id": "oa6KR3zPuHby",
      "execution_count": 8,
      "outputs": [
        {
          "output_type": "stream",
          "name": "stdout",
          "text": [
            "['A', 'form', 'of', 'asbestos', 'once', 'used', '*', ...]\n"
          ]
        }
      ]
    },
    {
      "cell_type": "code",
      "source": [
        "print(treebank.tagged_words('wsj_0003.mrg'))"
      ],
      "metadata": {
        "colab": {
          "base_uri": "https://localhost:8080/"
        },
        "id": "vGCXQPUQuVBC",
        "outputId": "2c585d32-99f2-48f9-85c3-4159b9409bd7"
      },
      "id": "vGCXQPUQuVBC",
      "execution_count": 9,
      "outputs": [
        {
          "output_type": "stream",
          "name": "stdout",
          "text": [
            "[('A', 'DT'), ('form', 'NN'), ('of', 'IN'), ...]\n"
          ]
        }
      ]
    },
    {
      "cell_type": "code",
      "execution_count": 15,
      "id": "a846d161",
      "metadata": {
        "id": "a846d161"
      },
      "outputs": [],
      "source": [
        "targets = ['train', 'plane']\n",
        "filtered = []\n",
        "for text in treebank.fileids():\n",
        "    words = treebank.words(text)\n",
        "    for word in words:\n",
        "        word_lc = word.lower()         \n",
        "        if word_lc in targets:\n",
        "            filtered.append((word_lc, text))"
      ]
    },
    {
      "cell_type": "code",
      "source": [
        "print(filtered[:20])"
      ],
      "metadata": {
        "colab": {
          "base_uri": "https://localhost:8080/"
        },
        "id": "OSQrvaYLx4uJ",
        "outputId": "dab43aa9-ab73-47b0-edb1-92dd5dae7130"
      },
      "id": "OSQrvaYLx4uJ",
      "execution_count": 16,
      "outputs": [
        {
          "output_type": "stream",
          "name": "stdout",
          "text": [
            "[('plane', 'wsj_0040.mrg'), ('train', 'wsj_0089.mrg'), ('train', 'wsj_0089.mrg'), ('train', 'wsj_0192.mrg'), ('train', 'wsj_0199.mrg')]\n"
          ]
        }
      ]
    },
    {
      "cell_type": "code",
      "source": [
        "data = nltk.ConditionalFreqDist(filtered)\n"
      ],
      "metadata": {
        "id": "mdD39Sg8yNCj"
      },
      "id": "mdD39Sg8yNCj",
      "execution_count": 17,
      "outputs": []
    },
    {
      "cell_type": "code",
      "source": [
        "data.plot()"
      ],
      "metadata": {
        "colab": {
          "base_uri": "https://localhost:8080/",
          "height": 356
        },
        "id": "jKZNDIcZyi9T",
        "outputId": "177699c7-f625-4700-bddd-9315de2582c0"
      },
      "id": "jKZNDIcZyi9T",
      "execution_count": 18,
      "outputs": [
        {
          "output_type": "display_data",
          "data": {
            "text/plain": [
              "<Figure size 432x288 with 1 Axes>"
            ],
            "image/png": "[encoded data removed]"
          },
          "metadata": {
            "needs_background": "light"
          }
        },
        {
          "output_type": "execute_result",
          "data": {
            "text/plain": [
              "<matplotlib.axes._subplots.AxesSubplot at 0x7f8d03ca8c50>"
            ]
          },
          "metadata": {},
          "execution_count": 18
        }
      ]
    }
  ],
  "metadata": {
    "kernelspec": {
      "display_name": "Python 3",
      "language": "python",
      "name": "python3"
    },
    "language_info": {
      "codemirror_mode": {
        "name": "ipython",
        "version": 3
      },
      "file_extension": ".py",
      "mimetype": "text/x-python",
      "name": "python",
      "nbconvert_exporter": "python",
      "pygments_lexer": "ipython3",
      "version": "3.8.8"
    },
    "colab": {
      "name": "19bce1418(NLP_DA1).ipynb",
      "provenance": []
    }
  },
  "nbformat": 4,
  "nbformat_minor": 5
}